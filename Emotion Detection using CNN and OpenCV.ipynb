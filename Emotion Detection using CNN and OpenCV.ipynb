{
 "cells": [
  {
   "cell_type": "markdown",
   "id": "9d9097ff",
   "metadata": {},
   "source": [
    "# Face Expression Task Using CNN And OpenCV\n",
    "\n",
    "### By Mahmoud Omar"
   ]
  },
  {
   "cell_type": "code",
   "execution_count": 1,
   "id": "b3752ebe",
   "metadata": {},
   "outputs": [],
   "source": [
    "import numpy as np\n",
    "import matplotlib.pyplot as plt\n",
    "import cv2\n",
    "import tensorflow as tf\n",
    "from tensorflow import keras\n",
    "tf.config.experimental.set_visible_devices([], 'GPU')"
   ]
  },
  {
   "cell_type": "code",
   "execution_count": 2,
   "id": "df168a39",
   "metadata": {},
   "outputs": [],
   "source": [
    "from keras.models import load_model\n",
    "from time import sleep\n",
    "from tensorflow.keras.utils import img_to_array\n",
    "from keras.preprocessing import image"
   ]
  },
  {
   "cell_type": "markdown",
   "id": "07bdf588",
   "metadata": {},
   "source": [
    "## Here i will load my model and Cascade filter which i will used"
   ]
  },
  {
   "cell_type": "code",
   "execution_count": 3,
   "id": "486ad7bd",
   "metadata": {},
   "outputs": [],
   "source": [
    "face_classifier = cv2.CascadeClassifier(r\"C:\\Users\\amr\\Emotion detection\\haarcascade_frontalface_default.xml\")\n",
    "classifier = load_model(r\"C:\\Users\\amr\\Emotion detection\\model.h5\")"
   ]
  },
  {
   "cell_type": "code",
   "execution_count": 4,
   "id": "5f4b047a",
   "metadata": {},
   "outputs": [],
   "source": [
    "emotion_labels = ['Angry','Disgust','Fear','Happy','Neutral', 'Sad', 'Surprise']"
   ]
  },
  {
   "cell_type": "markdown",
   "id": "f36a9ce8",
   "metadata": {},
   "source": [
    "## Face Expression from Camera Display"
   ]
  },
  {
   "cell_type": "code",
   "execution_count": null,
   "id": "e7b1610c",
   "metadata": {},
   "outputs": [],
   "source": [
    "cap = cv2.VideoCapture(0)\n",
    "while (True):\n",
    "    _,frame = cap.read()\n",
    "    labels = []\n",
    "    gray = cv2.cvtColor(frame,cv2.COLOR_BGR2GRAY)\n",
    "    faces = face_classifier.detectMultiScale(gray)\n",
    "\n",
    "    for (x,y,w,h) in faces:\n",
    "        cv2.rectangle(frame,(x,y),(x+w,y+h),(0,255,255),2)\n",
    "        roi_gray = gray[y:y+h,x:x+w]\n",
    "        roi_gray = cv2.resize(roi_gray,(48,48),interpolation=cv2.INTER_AREA)\n",
    "        \n",
    "    if np.sum([roi_gray])!=0:\n",
    "        roi = roi_gray.astype('float')/255.0\n",
    "        roi = img_to_array(roi)\n",
    "        roi = np.expand_dims(roi,axis=0)\n",
    "\n",
    "        prediction = classifier.predict(roi)[0]\n",
    "        label=emotion_labels[prediction.argmax()]\n",
    "        \n",
    "        label_position = (x,y-10)\n",
    "        cv2.putText(frame,label,label_position,cv2.FONT_HERSHEY_SIMPLEX,1,(255,0,255),2)\n",
    "    else:\n",
    "        cv2.putText(frame,'No Faces',(30,80),cv2.FONT_HERSHEY_SIMPLEX,1,(255,0,255),2)\n",
    "    cv2.imshow('Emotion Detector',frame)\n",
    "    if cv2.waitKey(1) & 0xFF == ord('q'):\n",
    "        break\n",
    "        \n",
    "cap.release()\n",
    "cv2.destroyAllWindows()"
   ]
  },
  {
   "cell_type": "markdown",
   "id": "2b3b5af0",
   "metadata": {},
   "source": [
    "## Face Expression for Images"
   ]
  },
  {
   "cell_type": "code",
   "execution_count": 14,
   "id": "93d17f13",
   "metadata": {},
   "outputs": [
    {
     "name": "stdout",
     "output_type": "stream",
     "text": [
      "1/1 [==============================] - 0s 21ms/step\n",
      "[5.0737979e-03 4.7026968e-04 5.8231433e-03 9.6063691e-01 1.5724638e-02\n",
      " 6.1615524e-03 6.1096041e-03]\n",
      "Happy\n"
     ]
    }
   ],
   "source": [
    "img = cv2.imread(r\"E:\\happy.jpg\")\n",
    "labels = []\n",
    "gray = cv2.cvtColor(img,cv2.COLOR_BGR2GRAY)\n",
    "faces = face_classifier.detectMultiScale(gray)\n",
    "\n",
    "for (x,y,w,h) in faces:\n",
    "    cv2.rectangle(img,(x,y),(x+w,y+h),(0,255,255),2)\n",
    "    roi_gray = gray[y:y+h,x:x+w]\n",
    "    roi_gray = cv2.resize(roi_gray,(48,48),interpolation=cv2.INTER_AREA)\n",
    "        \n",
    "if np.sum([roi_gray])!=0:\n",
    "    roi = roi_gray.astype('float')/255.0\n",
    "    roi = img_to_array(roi)\n",
    "    roi = np.expand_dims(roi,axis=0)\n",
    "\n",
    "    prediction = classifier.predict(roi)[0]\n",
    "    print(prediction)\n",
    "    label=emotion_labels[prediction.argmax()]\n",
    "    print(label)\n",
    "    if label == \"Angry\" :\n",
    "            from playsound import playsound\n",
    "            import gtts\n",
    "            tts = gtts.gTTS(\"لماذا انت غاضب\" , lang=\"ar\")\n",
    "            playsound(\"test.mp3\")\n",
    "    elif label == \"Happy\" :\n",
    "            tts = gtts.gTTS(\"ما هذه الجمال\" , lang=\"ar\")\n",
    "            playsound(\"test1.mp3\")\n",
    "    label_position = (x,y-10)\n",
    "    cv2.putText(img,label,label_position,cv2.FONT_HERSHEY_SIMPLEX,1,(255,0,255),2)\n",
    "else:\n",
    "    cv2.putText(img,'No Faces',(30,80),cv2.FONT_HERSHEY_SIMPLEX,1,(255,0,255),2)\n",
    "cv2.imshow('Emotion Detector',img)\n",
    "cv2.waitKey()\n",
    "cv2.destroyAllWindows()"
   ]
  },
  {
   "cell_type": "code",
   "execution_count": null,
   "id": "921e1268",
   "metadata": {},
   "outputs": [],
   "source": []
  }
 ],
 "metadata": {
  "kernelspec": {
   "display_name": "Python 3 (ipykernel)",
   "language": "python",
   "name": "python3"
  },
  "language_info": {
   "codemirror_mode": {
    "name": "ipython",
    "version": 3
   },
   "file_extension": ".py",
   "mimetype": "text/x-python",
   "name": "python",
   "nbconvert_exporter": "python",
   "pygments_lexer": "ipython3",
   "version": "3.9.12"
  }
 },
 "nbformat": 4,
 "nbformat_minor": 5
}
